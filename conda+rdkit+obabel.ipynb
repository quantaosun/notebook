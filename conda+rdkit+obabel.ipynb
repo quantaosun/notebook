{
  "nbformat": 4,
  "nbformat_minor": 0,
  "metadata": {
    "colab": {
      "name": "CDD-ML-Part-2-Exploratory-Data-Analysis-Acetylcholinesterase.ipynb",
      "provenance": [],
      "collapsed_sections": []
    },
    "kernelspec": {
      "name": "python3",
      "display_name": "Python 3"
    }
  },
  "cells": [
    {
      "cell_type": "markdown",
      "metadata": {
        "id": "o-4IOizard4P"
      },
      "source": [
        "## **Install conda and rdkit and open babel**"
      ]
    },
    {
      "cell_type": "code",
      "metadata": {
        "id": "H0mjQ2PcrSe5"
      },
      "source": [
        "! wget https://repo.anaconda.com/miniconda/Miniconda3-py37_4.8.2-Linux-x86_64.sh\n",
        "! chmod +x Miniconda3-py37_4.8.2-Linux-x86_64.sh\n",
        "! bash ./Miniconda3-py37_4.8.2-Linux-x86_64.sh -b -f -p /usr/local\n",
        "! conda install -c rdkit rdkit -y\n",
        "import sys\n",
        "sys.path.append('/usr/local/lib/python3.7/site-packages/')"
      ],
      "execution_count": null,
      "outputs": []
    },
    {
      "cell_type": "code",
      "metadata": {
        "id": "xJSrclcRIX8K"
      },
      "source": [
        "!time conda install -q -y -c openbabel openbabel"
      ],
      "execution_count": null,
      "outputs": []
    },
    {
      "cell_type": "code",
      "metadata": {
        "id": "zl2iMbzYIhaK"
      },
      "source": [
        "import sys\n",
        "sys.path.append('/usr/local/lib/python3.7/site-packages/')"
      ],
      "execution_count": 3,
      "outputs": []
    },
    {
      "cell_type": "markdown",
      "metadata": {
        "id": "Ket71NqnclT5"
      },
      "source": [
        "Single smile conversion"
      ]
    },
    {
      "cell_type": "code",
      "metadata": {
        "id": "uI1O58IWInH7",
        "colab": {
          "base_uri": "https://localhost:8080/"
        },
        "outputId": "aa37eb67-1a63-48eb-c2ce-8669cfb57310"
      },
      "source": [
        "!obabel -:\"O=C1N=C(N2CCN(C(C=C)=O)C[C@@H]2C)C3=CC(F)=C(C4=C(O)C=CC=C4F)N=C3[N@@]1[C@@]5=C(C)C=CN=C5C(C)C\" -osdf -O AMG510.sdf --gen3d"
      ],
      "execution_count": 13,
      "outputs": [
        {
          "output_type": "stream",
          "text": [
            "==============================\n",
            "*** Open Babel Warning  in ParseSmiles\n",
            "  Ignoring stereochemistry. Not enough connections to this atom. \n",
            "==============================\n",
            "*** Open Babel Warning  in ParseSmiles\n",
            "  Ignoring stereochemistry. Not enough connections to this atom. \n",
            "1 molecule converted\n"
          ],
          "name": "stdout"
        }
      ]
    },
    {
      "cell_type": "markdown",
      "metadata": {
        "id": "yMoS9cbMcuxG"
      },
      "source": [
        "Batch smiles conversion. There are two lines of smiles inside \"example.smi\"."
      ]
    },
    {
      "cell_type": "code",
      "metadata": {
        "id": "FTuuKDuIbhj7"
      },
      "source": [
        "!echo \"O=C1N=C(N2CCN(C(C=C)=O)C[C@@H]2C)C3=CC(F)=C(C4=C(O)C=CC=C4F)N=C3[N@@]1[C@@]5=C(C)C=CN=C5C(C)C\" > example.smi"
      ],
      "execution_count": 10,
      "outputs": []
    },
    {
      "cell_type": "code",
      "metadata": {
        "id": "DsgVSffSbtB-"
      },
      "source": [
        "!echo \"O=C1N=C(N2CCN(C(C=C)=O)C[C@@H]2C)C3=CC(F)=C(C4=C(O)C=CC=C4F)N=C3[N@@]1[C@@]5=C(C)C=CN=C5C(C)C\" >> example.smi"
      ],
      "execution_count": 11,
      "outputs": []
    },
    {
      "cell_type": "code",
      "metadata": {
        "id": "ePl7fWwiZt3Y",
        "outputId": "77fb17e1-a82b-4e56-8af7-312b4c06239c",
        "colab": {
          "base_uri": "https://localhost:8080/"
        }
      },
      "source": [
        "!obabel example.smi -O example.sdf --gen3d"
      ],
      "execution_count": 14,
      "outputs": [
        {
          "output_type": "stream",
          "text": [
            "==============================\n",
            "*** Open Babel Warning  in ParseSmiles\n",
            "  Ignoring stereochemistry. Not enough connections to this atom. \n",
            "==============================\n",
            "*** Open Babel Warning  in ParseSmiles\n",
            "  Ignoring stereochemistry. Not enough connections to this atom. \n",
            "==============================\n",
            "*** Open Babel Warning  in ParseSmiles\n",
            "  Ignoring stereochemistry. Not enough connections to this atom. \n",
            "==============================\n",
            "*** Open Babel Warning  in ParseSmiles\n",
            "  Ignoring stereochemistry. Not enough connections to this atom. \n",
            "2 molecules converted\n"
          ],
          "name": "stdout"
        }
      ]
    }
  ]
}