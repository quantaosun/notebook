{
  "nbformat": 4,
  "nbformat_minor": 0,
  "metadata": {
    "colab": {
      "name": "CDD-ML-Part-2-Exploratory-Data-Analysis-Acetylcholinesterase.ipynb",
      "provenance": [],
      "collapsed_sections": []
    },
    "kernelspec": {
      "name": "python3",
      "display_name": "Python 3"
    }
  },
  "cells": [
    {
      "cell_type": "code",
      "metadata": {
        "id": "H0mjQ2PcrSe5"
      },
      "source": [
        "! wget https://repo.anaconda.com/miniconda/Miniconda3-py37_4.8.2-Linux-x86_64.sh\n",
        "! chmod +x Miniconda3-py37_4.8.2-Linux-x86_64.sh\n",
        "! bash ./Miniconda3-py37_4.8.2-Linux-x86_64.sh -b -f -p /usr/local\n",
        "! conda install -c rdkit rdkit -y\n",
        "import sys\n",
        "sys.path.append('/usr/local/lib/python3.7/site-packages/')"
      ],
      "execution_count": null,
      "outputs": []
    },
    {
      "cell_type": "code",
      "metadata": {
        "id": "xJSrclcRIX8K"
      },
      "source": [
        "!time conda install -q -y -c openbabel openbabel"
      ],
      "execution_count": null,
      "outputs": []
    },
    {
      "cell_type": "code",
      "metadata": {
        "id": "zl2iMbzYIhaK"
      },
      "source": [
        "import sys\n",
        "sys.path.append('/usr/local/lib/python3.7/site-packages/')"
      ],
      "execution_count": 6,
      "outputs": []
    },
    {
      "cell_type": "code",
      "metadata": {
        "id": "x4QUqglCxh0P",
        "outputId": "2885c5ac-b14d-4b76-bb79-e94deca6a69e",
        "colab": {
          "base_uri": "https://localhost:8080/"
        }
      },
      "source": [
        "!pip install py3Dmol # 3D Molecular Visualizer"
      ],
      "execution_count": 7,
      "outputs": [
        {
          "output_type": "stream",
          "text": [
            "Requirement already satisfied: py3Dmol in /usr/local/lib/python3.7/site-packages (0.9.1)\n"
          ],
          "name": "stdout"
        }
      ]
    },
    {
      "cell_type": "code",
      "metadata": {
        "id": "OEbd2XFIxlMz"
      },
      "source": [
        "import os\n",
        "import numpy as np\n",
        "from sklearn.ensemble import RandomForestClassifier\n",
        "from sklearn.model_selection import StratifiedKFold\n",
        "from sklearn.metrics import accuracy_score\n",
        "from rdkit import Chem\n",
        "from rdkit.Chem import AllChem\n",
        "from rdkit.Chem import Draw\n",
        "from rdkit.Chem.Draw import IPythonConsole\n",
        "from rdkit.Chem import DataStructs\n",
        "from rdkit.Chem import RDConfig\n",
        "from rdkit.Chem import rdBase\n",
        "import pickle\n",
        "from sklearn.metrics import classification_report, confusion_matrix, accuracy_score\n",
        "print(rdBase.rdkitVersion)"
      ],
      "execution_count": null,
      "outputs": []
    },
    {
      "cell_type": "code",
      "metadata": {
        "id": "6m_bqHe5ytq9"
      },
      "source": [
        "!wget https://sourceforge.net/projects/smina/files/smina.static/download -O smina.static"
      ],
      "execution_count": null,
      "outputs": []
    },
    {
      "cell_type": "code",
      "metadata": {
        "id": "HrApACQPyxat"
      },
      "source": [
        "!chmod u+x smina.static"
      ],
      "execution_count": 10,
      "outputs": []
    },
    {
      "cell_type": "code",
      "metadata": {
        "id": "ZmTy95CmyyV0"
      },
      "source": [
        "!./smina.static"
      ],
      "execution_count": null,
      "outputs": []
    },
    {
      "cell_type": "code",
      "metadata": {
        "id": "reQh1expy1Hq"
      },
      "source": [
        "! apt-get install pymol "
      ],
      "execution_count": null,
      "outputs": []
    },
    {
      "cell_type": "code",
      "metadata": {
        "id": "8NLJ6A8hy1J-"
      },
      "source": [
        "!wget -O 1OYT.pdb https://files.rcsb.org/download/1oyt.pdb\n",
        "com_file = open('fetch_and_clean.pml','w')\n",
        "com_file.write('''\n",
        "load 1OYT.pdb\n",
        "remove resn HOH\n",
        "h_add elem O or elem N\n",
        "select 1OYT-FSN, resn FSN #Create a selection called 1OYT-FSN from the ligand\n",
        "select 1OYT-receptor, 1OYT and not 1OYT-FSN #Select all that is not the ligand\n",
        "save 1OYT-FSN.pdb, 1OYT-FSN\n",
        "save 1OYT-receptor.pdb, 1OYT-receptor    \n",
        "''')\n",
        "com_file.close()"
      ],
      "execution_count": null,
      "outputs": []
    },
    {
      "cell_type": "code",
      "metadata": {
        "id": "W0MM6wxIy1Mq"
      },
      "source": [
        "!pymol -c fetch_and_clean.pml"
      ],
      "execution_count": null,
      "outputs": []
    },
    {
      "cell_type": "code",
      "metadata": {
        "id": "SNJ15J0t0lxj"
      },
      "source": [
        "!obabel 1OYT-receptor.pdb -xr -O 1OYT-receptor.pdbqt\n",
        "!obabel 1OYT-FSN.pdb -O 1OYT-FSN.pdbqt"
      ],
      "execution_count": null,
      "outputs": []
    },
    {
      "cell_type": "code",
      "metadata": {
        "id": "aYe9A5vs1wkW"
      },
      "source": [
        "!./smina.static -r 1OYT-receptor.pdbqt -l 1OYT-FSN.pdbqt --autobox_ligand 1OYT-FSN.pdbqt --autobox_add 8 --exhaustiveness 16 -o 1OYT-redock.pdbqt"
      ],
      "execution_count": null,
      "outputs": []
    },
    {
      "cell_type": "code",
      "metadata": {
        "id": "S2V4FOUI2LT8"
      },
      "source": [
        "import py3Dmol\n",
        "\n",
        "def drawit2(m,confId=-1):\n",
        "    mb = Chem.MolToMolBlock(m,confId=confId)\n",
        "    p = py3Dmol.view(width=400, height=400)\n",
        "    p.addModel(mb,'sdf')\n",
        "    p.setStyle({'stick':{}})\n",
        "    p.setBackgroundColor('0xeeeeee')\n",
        "    p.zoomTo()\n",
        "    return p\n",
        "\n",
        "def DrawComplex(protein,ligand):\n",
        "    complex_pl = Chem.MolToPDBBlock(Chem.CombineMols(protein,ligand))\n",
        "    #complex_mol=Chem.CombineMols(receptor,mols[-1])\n",
        "    view = py3Dmol.view(width=600,height=600)\n",
        "    view.addModel(complex_pl,'pdb')\n",
        "    #view.addModel(Chem.MolToMolBlock(mols[0]),'sdf')\n",
        "    chA = {'chain':['H','L','I']}\n",
        "    chB = {'resn':'UNL'}\n",
        "    view.setStyle(chA,{'cartoon': {'color':'spectrum'}})\n",
        "    #view.setStyle(chA,{'lines': {}})\n",
        "    view.addSurface(py3Dmol.VDW,{'opacity':0.8}, chB)\n",
        "    view.setStyle(chB,{'stick':{}})\n",
        "    view.zoomTo()\n",
        "    return view   \n"
      ],
      "execution_count": 17,
      "outputs": []
    },
    {
      "cell_type": "code",
      "metadata": {
        "id": "FrEIfMNq2UdF"
      },
      "source": [
        "from rdkit import Chem"
      ],
      "execution_count": 18,
      "outputs": []
    },
    {
      "cell_type": "code",
      "metadata": {
        "id": "PNObBuZ02X6i",
        "outputId": "6521f751-8d2f-453a-cca1-c477427d1d13",
        "colab": {
          "base_uri": "https://localhost:8080/"
        }
      },
      "source": [
        "!obabel 1OYT-redock.pdbqt -O 1OYT-redocked.sdf"
      ],
      "execution_count": 19,
      "outputs": [
        {
          "output_type": "stream",
          "text": [
            "9 molecules converted\n"
          ],
          "name": "stdout"
        }
      ]
    },
    {
      "cell_type": "code",
      "metadata": {
        "id": "sJ7JdHTg2cGH"
      },
      "source": [
        "mols = [m for m in Chem.SDMolSupplier('1OYT-redocked.sdf') if m is not None]"
      ],
      "execution_count": 20,
      "outputs": []
    },
    {
      "cell_type": "code",
      "metadata": {
        "id": "eWIz77So2oYj"
      },
      "source": [
        "drawit2(mols[8])"
      ],
      "execution_count": null,
      "outputs": []
    },
    {
      "cell_type": "code",
      "metadata": {
        "id": "mXOuI40u3B_l"
      },
      "source": [
        "receptor = Chem.MolFromPDBFile('1OYT-receptor.pdb')\n",
        "DrawComplex(receptor,mols[8])"
      ],
      "execution_count": null,
      "outputs": []
    }
  ]
}