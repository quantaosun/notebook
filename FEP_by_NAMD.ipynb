{
  "nbformat": 4,
  "nbformat_minor": 0,
  "metadata": {
    "colab": {
      "name": "FEP_by_NAMD.ipynb",
      "provenance": []
    },
    "kernelspec": {
      "name": "python3",
      "display_name": "Python 3"
    },
    "language_info": {
      "name": "python"
    }
  },
  "cells": [
    {
      "cell_type": "markdown",
      "metadata": {
        "id": "E4SWR5_IZ1Vm"
      },
      "source": [
        "# This note book is written by Quantao quantaosun@gmail.com \n"
      ]
    },
    {
      "cell_type": "markdown",
      "metadata": {
        "id": "OUKrClgyazHx"
      },
      "source": [
        "Two things are making FEP still a complex and challenging task, it is far less applied used compared to molecular docking. The number one reason is the set up for FEP input requires expert knowledge in both chemistry and coding, many detailed things need to be addressed like the protein structure errors and careful ligand alignment. Number two would be the high computing resources required as much as a thousand times more than a general docking procedure.\n",
        "\n",
        "In this notebook, we will discuss how to set up a ligand mutation FEP step by step based on a web server called Feprepare, note, this web server is NAMD supported and not suitable for other simulation packages like Gromacs. Only the input for the Feprepare listed here without the output, due to the supper long file format, it is advised that you could read this blog with your output at hand."
      ]
    },
    {
      "cell_type": "markdown",
      "metadata": {
        "id": "zmsniA43bVUI"
      },
      "source": [
        "Molecular dynamic package NAMD is one of the most widely used free molecular dynamic software, especially in biochemistry area,it usually use with VMD. NAMD for now can only runs on Linux, VMD can runs on multiple platforms including Windows.\n",
        "\n",
        "This tutorial is for FEP validation purpose mainly towards NAMD/2.13-mpi, it also provide a chance to test the reliability of webserver Feprepare Feprepare, which is to help users to generate input files for namd. You are expected to have basic knowledge about bash language for simple coding.\n",
        "\n",
        "In a typical FEP calculation, a 16 or 32 lambda window would be applied. Here we use 16 lambada. The initial structures downloaded from PDB website, Schrodinger Maestro was used to quickly prepare the protein structure, and align the Ligand by its flexible ligand alignment.\n",
        "\n",
        "We are going to use two protein-ligand structures dowloaded from the Protein Data Bank, namely 1MQ5 and 1MQ6, with ligand XLC and XLD bound.\n",
        "\n"
      ]
    },
    {
      "cell_type": "markdown",
      "metadata": {
        "id": "m1SW2rMVjeHt"
      },
      "source": [
        "# Installation of the software"
      ]
    },
    {
      "cell_type": "code",
      "metadata": {
        "id": "ruiuYY56lKzB"
      },
      "source": [
        "# Download the NAMD binary\n",
        "#!wget https://www.ks.uiuc.edu/Research/namd/2.14/download/946183/NAMD_2.14_Linux-x86_64-multicore-CUDA.tar.gz"
      ],
      "execution_count": null,
      "outputs": []
    },
    {
      "cell_type": "code",
      "metadata": {
        "id": "FbVXeRG-lLEX"
      },
      "source": [
        "# Extract the file\n",
        "# !tar -zxf /content/NAMD_2.14_Linux-x86_64-multicore-CUDA.tar.gz\n",
        "#!tar -zxf NAMD_2.14_Linux-x86_64-multicore-CUDA.tar.gz"
      ],
      "execution_count": null,
      "outputs": []
    },
    {
      "cell_type": "code",
      "metadata": {
        "id": "LCVrAuelnPiN"
      },
      "source": [
        "#!tar -zxf charmm-gui-solution.tgz"
      ],
      "execution_count": null,
      "outputs": []
    },
    {
      "cell_type": "code",
      "metadata": {
        "id": "Gb7lxRAKnRbS"
      },
      "source": [
        "#!pwd\n",
        "#!mkdir namd_result\n",
        "#%cd namd_result/"
      ],
      "execution_count": null,
      "outputs": []
    },
    {
      "cell_type": "markdown",
      "metadata": {
        "id": "q2leZLuxbca0"
      },
      "source": [
        "# Step 1: Files set up for LigParGen"
      ]
    },
    {
      "cell_type": "markdown",
      "metadata": {
        "id": "-p56pd52bk1e"
      },
      "source": [
        "Open maestro\n",
        "\n",
        "File > Get PDB “1MQ5“ Download （the same for 1MQ6） Left click > split > by molecule (the same for 1MQ6) only keep the protein and ligands.\n",
        "\n",
        "Delete other columns Group > “group selected entries & Groups” > Create Group\n",
        "\n",
        "File > save project as\n",
        "\n",
        "There are no H atoms in raw crystal structures, so we need to add H to both the protein and ligands.\n",
        "\n",
        "Protein preparation > “assign bond orders, add hydrogens, create disulfide bonds. Delete waters beyond 5 angstroms from het group” > Preprocess > problems OK.\n",
        "\n",
        "(do the same for XLC and XLD ligands) Delete the old structures in time.\n",
        "\n",
        "flexible ligand alignment > common scaffold alignment > use fuzzy matching\n",
        "\n",
        "file > export , export the protein.pdb, XLC.pdb and XLD.pdb respectively to a folder."
      ]
    },
    {
      "cell_type": "markdown",
      "metadata": {
        "id": "1xDo5QyIbqFQ"
      },
      "source": [
        "# Step2: Files uploaded to LigParGen"
      ]
    },
    {
      "cell_type": "markdown",
      "metadata": {
        "id": "qCHFuaOnbui0"
      },
      "source": [
        "Sever LigParGen is a web-based service that provides force field (FF) parameters for organic molecules or ligands, offered by the Jorgensen group."
      ]
    },
    {
      "cell_type": "markdown",
      "metadata": {
        "id": "AUgsQJB6bykB"
      },
      "source": [
        "Sever LigParGen is a web-based service that provides force field (FF) parameters for organic molecules or ligands, offered by the Jorgensen group.\n",
        "Upload XLC.pdb to LigParGen, > submit > download *.rtf and *.prm for charm/namd\n",
        "\n",
        "Upload XLD.pdb, do the same thing.\n",
        "\n",
        "Note since the NAMD default charmm force field can recognize all amino acids, there is no need to upload protein.pdb."
      ]
    },
    {
      "cell_type": "code",
      "metadata": {
        "id": "FVJupARuIaMH"
      },
      "source": [
        ""
      ],
      "execution_count": null,
      "outputs": []
    },
    {
      "cell_type": "markdown",
      "metadata": {
        "id": "gDTVK-iPb24h"
      },
      "source": [
        "# Step3 :Upload output files from LigParGen to Feprepare"
      ]
    },
    {
      "cell_type": "markdown",
      "metadata": {
        "id": "dUhoNlCwb9za"
      },
      "source": [
        "Upload xlc.pdb, xlc.rtf, xlc.prm as reference, upload xld.pdb,xld.rtf,xld.prm as mutant. Upload protein.pdb (1MQ5) as protein.pdb, submit and after minutes, the job should be done. Download the output files as files.zip."
      ]
    },
    {
      "cell_type": "markdown",
      "metadata": {
        "id": "cuY5dqrDcB03"
      },
      "source": [
        "# Step4: Transport files.zip to remote cluster"
      ]
    },
    {
      "cell_type": "markdown",
      "metadata": {
        "id": "Vmoi0VqycDew"
      },
      "source": [
        "Fep calculation need a lot computatinal resources, you are supposed to have access to some kind of cluster or super computer which instlalled with NAMD/2.13-mpi. Use SSH command or use SFTP tools like FileZilla to transfer to your remote host. Log into your remonte host"
      ]
    },
    {
      "cell_type": "markdown",
      "metadata": {
        "id": "7C4fh_PDcfsw"
      },
      "source": [
        ""
      ]
    },
    {
      "cell_type": "code",
      "metadata": {
        "id": "QnzCDrvscf61"
      },
      "source": [
        "%%bash\n",
        "mkdir fep \n",
        "mv files.zip fep\n",
        "cd fep\n",
        "unzip files.zip\n",
        "cd complex/ \n",
        "ls"
      ],
      "execution_count": null,
      "outputs": []
    },
    {
      "cell_type": "markdown",
      "metadata": {
        "id": "NEcjI14OcvOH"
      },
      "source": [
        "There are two branch legs, namely the \"complex\" and \"solvent\" branch, we are going to calculate the free energy changee for both of them, now we are in \"complex\" folder."
      ]
    },
    {
      "cell_type": "markdown",
      "metadata": {
        "id": "613VWFTocy34"
      },
      "source": [
        "# Step 5: Modify NAMD configuration file or .namd file."
      ]
    },
    {
      "cell_type": "markdown",
      "metadata": {
        "id": "cMHokHrIdyg6"
      },
      "source": [
        "Now it is time to modify the NAMD configuration file since there seem incomplete parameters listed by Feprepare Sever. Caution! This part is tricky. Though there is already some configuration file existed in the current folder but they are found incomplete or some other tiny errors. Please double-check the three following things."
      ]
    },
    {
      "cell_type": "markdown",
      "metadata": {
        "id": "nPqIPqO0d4zY"
      },
      "source": [
        "First\n",
        "more parameter files need to be added to the nvt_equill.namd/npt_equil.namd as well as the md_forward.namd. Here I just copy a whole pack of parameter files originally from Charmm-Gui > Input generator > relative ligand binder. What needs to be done is copy the so-called “ toppar” file from Charm-GUI and put it in /srv/scratch/myfolder. Make sure this path is properly defined in the *namd file.\n",
        "Second\n",
        "add the ‘updated.prm\" as well in the \"parameter\" list as well, ohterwise there will be an error \"XXX.atom unrecognized\" happening.\n",
        "Third\n",
        "Also, make sure your “toppar” folder contains this modified “water_ions.mod.str” otherwise another infamous atom type OT not found will find you !!!\n",
        "Note it was found there might be a key mistake from the default *.namd file from Feprepare, that is the default value for \"alchfille\" was ionized.fep, but I have found the ionized.fep B column was not defining the -1 and 1 beta for those atoms need to be perturbated, while the ionzed_comple.fep should be the right one. If you want to know more, the Feprpare manual should be read.\n",
        "\n",
        "Last, remember, you don’t need to set any lambda at this equilibrate stage, set them all to 0.0, 0.0, 0.0."
      ]
    },
    {
      "cell_type": "markdown",
      "metadata": {
        "id": "Vmazp_VqeOM8"
      },
      "source": [
        "You could generate the \"file.zip\" from Feprepare web server based on your ligands of interest before using the scripts. Another two files are provided here for free downloading, all the extraction codes are 9999. One is the toppar file which contains all the topology files need for the simulation, the other is the parameter patch file .\n",
        "\n",
        "After the three files ready, to use these two scripts, in the complex or solvent directory.(you need to modify the namd path to your NAMD installation location)\n",
        "\n",
        " $\n",
        "\n",
        "```\n",
        "\n",
        " chmod +x complex-leg-patch.sh\n",
        "                  $ ./complex-leg-patch.sh\n",
        "```\n"
      ]
    },
    {
      "cell_type": "markdown",
      "metadata": {
        "id": "PAPAqk0rfGLW"
      },
      "source": [
        "topology files: https://pan.baidu.com/s/1LKrbaeZv9EWYBAfIdTFXCA/?_at_=1618992733630 9999\n",
        "\n",
        "parameter patch file:https://pan.baidu.com/s/1Vdc9l-dYGCEETmye-mKGIg/ extraction code 9999"
      ]
    },
    {
      "cell_type": "markdown",
      "metadata": {
        "id": "qNYM8ZqXemXi"
      },
      "source": [
        "**complex-leg-patch.sh**"
      ]
    },
    {
      "cell_type": "code",
      "metadata": {
        "id": "N7_G8s2Vcf_Z"
      },
      "source": [
        "#!/bin/bash\n",
        "# This script is written for the purpose to do ligand mutation free energy perturbation. \n",
        "# I assume you use the web server \"Feprepare\" to generate \"all\" necessary input files\n",
        "# towards NAMD simulation. This script can help to change the \"lambda by lambda\"\n",
        "# simulation sequence to \"all lambda in one\" simulation, making the simulation easier\n",
        "# to handle and analysis later. The directory location to run this script should be \n",
        "# the \"complex\" or \"solvent\", respectively. This one is for complex leg.\n",
        "##email to quantaosun@gmail.com if there is any issues or errors. \n",
        "\n",
        "# It should be advised; the author of this script only have preliminary knowledge of \n",
        "# coding, so use this script at your own risk !\n",
        "\n",
        "############ NVT script modification ##################################\n",
        "cp conf_complex/nvt_equil.namd ./\n",
        "head -n 13 nvt_equil.namd > output1\n",
        "cat parameter_patch.txt >> output1\n",
        "tail -n +14 nvt_equil.namd > output2\n",
        "sed -i 's/ionized.fep/ionized_complex.fep/' output2\n",
        "cat output2 >> output1\n",
        "mv output1 nvt_equil_modi.namd\n",
        "\n",
        "\n",
        "############ NPT script modification #####################################\n",
        "cp conf_complex/npt_equil.namd ./\n",
        "head -n 13 npt_equil.namd > output3\n",
        "cat parameter_patch.txt >> output3\n",
        "tail -n +14 npt_equil.namd > output4\n",
        "sed -i 's/ionized.fep/ionized_complex.fep/' output4\n",
        "cat output4 >> output3\n",
        "mv output3 npt_equil_modi.namd\n",
        "\n",
        "############### Production script modification #################################\n",
        "\n",
        "cp conf_complex/md_forward_1.namd ./\n",
        "\n",
        "tail -n 3 md_forward_1.namd > tmp2.txt\n",
        "echo \"alchEquilSteps          0\n",
        "    set numSteps            500000       ; # 0.5 ns as a total\n",
        "\n",
        "   runFEP 0.0 1.0 0.0625 $numSteps\" > tmp2.txt                  # overwrite the original Lambda0 Lambda2 format, 16 lambda windows\n",
        "\n",
        "cat tmp2.txt >> md_forward_1.namd\n",
        "\n",
        "#To uncomment lines 139 through 141 to close the one by one simulation.\n",
        "\n",
        "sed -i '139,141 s/^/#/' md_forward_1.namd                         #double check the line numbers.\n",
        "\n",
        "head -n 123 md_forward_1.namd > outputA\n",
        "tail -n +124 md_forward_1.namd > outputB\n",
        "echo \"source     ../fep.tcl\" >> outputA\n",
        "cat outputB >> outputA\n",
        "mv outputA md_forward_1.namd\n",
        "#################### To substitute the alchFile ##############                                                 \n",
        "head -n 13 md_forward_1.namd > output5\n",
        "cat parameter_patch.txt >> output5\n",
        "tail -n +14 md_forward_1.namd > output6\n",
        "sed -i 's/ionized.fep/ionized_complex.fep/' output6                  # correct the B column with -1\n",
        "sed -i '/^alchDecouple/s/off/yes/' output6                            # turn on the \"alchDecouple\"\n",
        "cat output6 >> output5\n",
        "mv output5 md_forward_modi.namd\n",
        "\n",
        "########Running the job#################################\n",
        "\n",
        "qsub -I -l select=1:ncpus=32:mem=40gb,walltime=10:00:00 -M your_email@.. -m aeb\n",
        "cd $PBS_O_WORKDIR\n",
        "module load intel/18.0.1.163 openmpi/3.1.2-intel namd/2.13-mpi\n",
        "\n",
        "export Honey_NAMD=/apps/namd/2.13-mpi/arch/Linux-x86_64-icc   # this need to be modified\n",
        "\n",
        "###################################################################\n",
        "mpirun --oversubscribe -np 4 $Fuck_NAMD/namd2 +ppn 7 nvt_equil_modi.namd > nvt_equil_modi.out\n",
        "\n",
        "#NPT###############################################################\n",
        "\n",
        "mpirun --oversubscribe -np 4 $Fuck_NAMD/namd2 +ppn 7 npt_equil_modi.namd > npt_equil_modi.out\n",
        "\n",
        "# Production#######################################################\n",
        "\n",
        "mpirun --oversubscribe -np 4 $Fuck_NAMD/namd2 +ppn 7 md_forward_modi.namd > md_forward_modi.out\n"
      ],
      "execution_count": null,
      "outputs": []
    },
    {
      "cell_type": "markdown",
      "metadata": {
        "id": "PjJEqktzevZV"
      },
      "source": [
        "**solvent-leg-patch.sh**\n",
        "To use these two scripts, in the complex or solvent directory.\n",
        "\n",
        "\n",
        "\n",
        "```\n",
        " chmod +x solvent-leg-patch.sh\n",
        "                  ./solvent-leg-patch.sh\n",
        "```\n",
        "\n"
      ]
    },
    {
      "cell_type": "code",
      "metadata": {
        "id": "XObOZTkHcgCt"
      },
      "source": [
        "#!/bin/bash\n",
        "# This script is written for the purpose to do ligand mutation free energy pertubation. \n",
        "# I assume you use the web server \"Feprepare\" to generate \"all\" necessary input files\n",
        "# towards NAMD simlation. This script can help to change the \"lambda by lambda\"\n",
        "# simulation sequence to \"all lambda in one\" simulation, making the simulation easier\n",
        "# to handle and analysis later. The directory location to run this script should be \n",
        "# the \"complex\" or \"solvent\", respectively. This one is for solvent leg.\n",
        "##email to quantaosun@gmail.com if there is any issues or errors. \n",
        "\n",
        "# It should be advised; the author of this script only have preliminary knowledge of \n",
        "# coding, so use this script at your own risk !\n",
        "\n",
        "############ NVT script modification ##################################\n",
        "cp conf_solvent/nvt_equil.namd ./\n",
        "head -n 13 nvt_equil.namd > output1\n",
        "cat parameter_patch.txt >> output1\n",
        "tail -n +14 nvt_equil.namd > output2\n",
        "sed -i 's/ionized.fep/ionized_solvent.fep/' output2\n",
        "cat output2 >> output1\n",
        "mv output1 nvt_equil_modi.namd\n",
        "\n",
        "\n",
        "############ NPT script modification #####################################\n",
        "cp conf_solvent/npt_equil.namd ./\n",
        "head -n 13 npt_equil.namd > output3\n",
        "cat parameter_patch.txt >> output3\n",
        "tail -n +14 npt_equil.namd > output4\n",
        "sed -i 's/ionized.fep/ionized_solvent.fep/' output4\n",
        "cat output4 >> output3\n",
        "mv output3 npt_equil_modi.namd\n",
        "\n",
        "############### Production script modification #################################\n",
        "\n",
        "cp conf_solvent/md_forward_1.namd ./\n",
        "\n",
        "tail -n 3 md_forward_1.namd > tmp2.txt\n",
        "echo \"alchEquilSteps          0\n",
        "    set numSteps            500000       ; # 0.5 ns as a total\n",
        "\n",
        "   runFEP 0.0 1.0 0.0625 $numSteps\" > tmp2.txt                  # overwrite the original Lambda0 Lambda2 format, 16 lambda windows\n",
        "\n",
        "cat tmp2.txt >> md_forward_1.namd\n",
        "\n",
        "#To uncomment lines 139 through 141 to turn off the one by one simulation:\n",
        "\n",
        "sed -i '139,141 s/^/#/' md_forward_1.namd                         #double check the line numbers.\n",
        "\n",
        "head -n 123 md_forward_1.namd > outputA\n",
        "tail -n +124 md_forward_1.namd > outputB\n",
        "echo \"source     ../fep.tcl\" >> outputA\n",
        "cat outputB >> outputA\n",
        "mv outputA md_forward_1.namd\n",
        "#################### To substitute the alchFile ##############                                                 \n",
        "head -n 13 md_forward_1.namd > output5\n",
        "cat parameter_patch.txt >> output5\n",
        "tail -n +14 md_forward_1.namd > output6\n",
        "sed -i 's/ionized.fep/ionized_solvent.fep/' output6                  # correct the B column with -1\n",
        "sed -i '/^alchDecouple/s/off/yes/' output6                            # turn on the \"alchDecouple\"\n",
        "cat output6 >> output5\n",
        "mv output5 md_forward_modi.namd\n",
        "\n",
        "########Running the job#################################\n",
        "\n",
        "qsub -I -l select=1:ncpus=32:mem=40gb,walltime=10:00:00 -M your_email@.. -m aeb\n",
        "cd $PBS_O_WORKDIR\n",
        "module load intel/18.0.1.163 openmpi/3.1.2-intel namd/2.13-mpi\n",
        "\n",
        "export Honey_NAMD=/apps/namd/2.13-mpi/arch/Linux-x86_64-icc # this need to be modified.\n",
        "\n",
        "###################################################################\n",
        "mpirun --oversubscribe -np 4 $Fuck_NAMD/namd2 +ppn 7 nvt_equil_modi.namd > nvt_equil_modi.out\n",
        "\n",
        "#NPT###############################################################\n",
        "\n",
        "mpirun --oversubscribe -np 4 $Fuck_NAMD/namd2 +ppn 7 npt_equil_modi.namd > npt_equil_modi.out\n",
        "\n",
        "# Production#######################################################\n",
        "\n",
        "mpirun --oversubscribe -np 4 $Fuck_NAMD/namd2 +ppn 7 md_forward_modi.namd > md_forward_modi.out\n",
        "\n",
        "\n"
      ],
      "execution_count": null,
      "outputs": []
    },
    {
      "cell_type": "markdown",
      "metadata": {
        "id": "I30PDlO1fyrF"
      },
      "source": [
        "# After the calculation is done, please use the \"complex - solvent\" to obtain the FEP ddG value"
      ]
    }
  ]
}