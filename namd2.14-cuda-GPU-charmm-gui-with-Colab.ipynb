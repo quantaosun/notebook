{
  "nbformat": 4,
  "nbformat_minor": 0,
  "metadata": {
    "colab": {
      "name": "namd.ipynb",
      "provenance": [],
      "collapsed_sections": []
    },
    "kernelspec": {
      "name": "python3",
      "display_name": "Python 3"
    },
    "accelerator": "GPU"
  },
  "cells": [
    {
      "cell_type": "markdown",
      "metadata": {
        "id": "_AVJH7JDvLtK"
      },
      "source": [
        "# This is a guideline of a standard solution NAMD simulation, based on input files returned from Charmm GUI solution input generator.\n",
        "Created by quantaosun@gmail.com;\n",
        "**Github: quantaosun/notebook**\n"
      ]
    },
    {
      "cell_type": "markdown",
      "metadata": {
        "id": "ULnaC54rwHDS"
      },
      "source": [
        "下载支持GPU加速的NAMD的免安装版本NAMD2.14-cuda. 或者最新版的nightly build 版本的CUDA预先编译版本的。"
      ]
    },
    {
      "cell_type": "code",
      "metadata": {
        "id": "HS81BcMQncVW"
      },
      "source": [
        "# Download the NAMD binary\n",
        "!wget https://www.ks.uiuc.edu/Research/namd/2.14/download/946183/NAMD_2.14_Linux-x86_64-multicore-CUDA.tar.gz"
      ],
      "execution_count": null,
      "outputs": []
    },
    {
      "cell_type": "code",
      "metadata": {
        "id": "wb0AxjOAm68j"
      },
      "source": [
        "# Extract the file\n",
        "# !tar -zxf /content/NAMD_2.14_Linux-x86_64-multicore-CUDA.tar.gz\n",
        "!tar -zxf NAMD_2.14_Linux-x86_64-multicore-CUDA.tar.gz"
      ],
      "execution_count": null,
      "outputs": []
    },
    {
      "cell_type": "markdown",
      "metadata": {
        "id": "qyLXerWTnD8o"
      },
      "source": [
        "**Please make sure to upload your CHARMM GUI package and extract it.\n",
        "，我默认你已经前往Charmm GUI 网页自行通过input generator> solutino builder 生成了下面模拟所需的输入文件，你需要上传到这里** "
      ]
    },
    {
      "cell_type": "code",
      "metadata": {
        "id": "rH7dYekynAIf"
      },
      "source": [
        "!tar -zxf charmm-gui-solution.tgz\n"
      ],
      "execution_count": null,
      "outputs": []
    },
    {
      "cell_type": "code",
      "metadata": {
        "id": "XSsozm-8rHiO"
      },
      "source": [
        "!pwd\n",
        "!mkdir namd_result\n",
        "%cd namd_result/"
      ],
      "execution_count": null,
      "outputs": []
    },
    {
      "cell_type": "markdown",
      "metadata": {
        "id": "o3yGatZOsU8Z"
      },
      "source": [
        "**Before you move any further, please switch runtime to \"GPU\", 记得切换运行环境哦**"
      ]
    },
    {
      "cell_type": "markdown",
      "metadata": {
        "id": "Pt76s4nXyDWR"
      },
      "source": [
        "**假设我们只想快速的完成1ns的模拟** In case you just want a quick 1ns simulation"
      ]
    },
    {
      "cell_type": "markdown",
      "metadata": {
        "id": "xADSKYRxwctz"
      },
      "source": [
        "假设我们只想快速的完成1ns 的模拟，以下具体的namd 和文件路径，以你自己的为准，请适当修改。我们从第四步开始继续模拟，我们默认charmm gui 已经为我们完成了第三步"
      ]
    },
    {
      "cell_type": "code",
      "metadata": {
        "id": "dUZd7W5FO167"
      },
      "source": [
        "# run NAMD. You should change the paths to correspond to the files\n",
        "!/content/NAMD_2.14_Linux-x86_64-multicore-CUDA/namd2 +p4 /content/charmm-gui-0456126325/namd/step4_equilibration.inp > step4.log"
      ],
      "execution_count": null,
      "outputs": []
    },
    {
      "cell_type": "code",
      "metadata": {
        "id": "gNCBi827rm9H"
      },
      "source": [
        "# run NAMD. You should change the paths to correspond to the files\n",
        "!/content/NAMD_2.14_Linux-x86_64-multicore-CUDA/namd2 +p4 /content/charmm-gui-0456126325/namd/step5_production.inp > step5.log"
      ],
      "execution_count": null,
      "outputs": []
    },
    {
      "cell_type": "markdown",
      "metadata": {
        "id": "t5zP_BFuymGR"
      },
      "source": [
        "**假设我们想完成10ns 的模拟** "
      ]
    },
    {
      "cell_type": "markdown",
      "metadata": {
        "id": "81nKP3HVyHJZ"
      },
      "source": [
        "假设我们想完成10ns 的模拟，我们需要用跟随Charmm gui 返回文件而来的， README, 其包含了需要运行10ns 的循环模拟指令，指令是以csh shell 语言的形式写的，我们只需要 cat README > run.csh 然后在colab, 运行，\"csh run.csh\""
      ]
    },
    {
      "cell_type": "code",
      "metadata": {
        "id": "JEQVkHgnyovo"
      },
      "source": [
        "%%bash\n",
        "cat README > run.csh\n",
        "csh run.csh"
      ],
      "execution_count": null,
      "outputs": []
    },
    {
      "cell_type": "markdown",
      "metadata": {
        "id": "YUEs4FBCvGMr"
      },
      "source": [
        "**Use next section if you have multiple dcd files**"
      ]
    },
    {
      "cell_type": "markdown",
      "metadata": {
        "id": "w5ZcsbAQzepR"
      },
      "source": [
        ""
      ]
    },
    {
      "cell_type": "code",
      "metadata": {
        "id": "qSbmuu95ryCG"
      },
      "source": [
        "# Download CatDCD to combine the dcd files into1.log\n",
        "#!wget https://www.ks.uiuc.edu/Development/MDTools/catdcd/files/catdcd-4.0b.tar.gz\n",
        "#!tar -zxf catdcd-4.0b.tar.gz"
      ],
      "execution_count": null,
      "outputs": []
    },
    {
      "cell_type": "code",
      "metadata": {
        "id": "P5GaS_4Xssd-"
      },
      "source": [
        "# Run CatDCD. follow the instructions\n",
        "#!/content/LINUX/bin/catdcd4.0/catdcd"
      ],
      "execution_count": null,
      "outputs": []
    },
    {
      "cell_type": "code",
      "metadata": {
        "id": "AqsIO7F6syY0"
      },
      "source": [
        ""
      ],
      "execution_count": null,
      "outputs": []
    }
  ]
}