{
  "nbformat": 4,
  "nbformat_minor": 0,
  "metadata": {
    "colab": {
      "name": "最简约的蛋白质动力学模拟.ipynb",
      "provenance": [],
      "authorship_tag": "ABX9TyMDibX9nEMTo8d3Z2mr6jKx",
      "include_colab_link": true
    },
    "kernelspec": {
      "name": "python3",
      "display_name": "Python 3"
    },
    "language_info": {
      "name": "python"
    },
    "accelerator": "GPU"
  },
  "cells": [
    {
      "cell_type": "markdown",
      "metadata": {
        "id": "view-in-github",
        "colab_type": "text"
      },
      "source": [
        "<a href=\"https://colab.research.google.com/github/quantaosun/notebook/blob/main/%E6%9C%80%E7%AE%80%E7%BA%A6%E7%9A%84%E8%9B%8B%E7%99%BD%E8%B4%A8%E5%8A%A8%E5%8A%9B%E5%AD%A6%E6%A8%A1%E6%8B%9F.ipynb\" target=\"_parent\"><img src=\"https://colab.research.google.com/assets/colab-badge.svg\" alt=\"Open In Colab\"/></a>"
      ]
    },
    {
      "cell_type": "code",
      "metadata": {
        "colab": {
          "base_uri": "https://localhost:8080/"
        },
        "id": "x6iPrchOkbRt",
        "outputId": "7f3a47c2-a263-45f1-be37-b6965bbc6695"
      },
      "source": [
        "! wget https://repo.anaconda.com/miniconda/Miniconda3-py37_4.8.2-Linux-x86_64.sh\n",
        "! chmod +x Miniconda3-py37_4.8.2-Linux-x86_64.sh\n",
        "! bash ./Miniconda3-py37_4.8.2-Linux-x86_64.sh -b -f -p /usr/local\n",
        "#! conda install -c rdkit rdkit -y\n",
        "import sys\n",
        "sys.path.append('/usr/local/lib/python3.7/site-packages/')"
      ],
      "execution_count": 1,
      "outputs": [
        {
          "output_type": "stream",
          "name": "stdout",
          "text": [
            "--2021-09-20 14:51:02--  https://repo.anaconda.com/miniconda/Miniconda3-py37_4.8.2-Linux-x86_64.sh\n",
            "Resolving repo.anaconda.com (repo.anaconda.com)... 104.16.130.3, 104.16.131.3, 2606:4700::6810:8203, ...\n",
            "Connecting to repo.anaconda.com (repo.anaconda.com)|104.16.130.3|:443... connected.\n",
            "HTTP request sent, awaiting response... 200 OK\n",
            "Length: 85055499 (81M) [application/x-sh]\n",
            "Saving to: ‘Miniconda3-py37_4.8.2-Linux-x86_64.sh.1’\n",
            "\n",
            "Miniconda3-py37_4.8 100%[===================>]  81.12M   188MB/s    in 0.4s    \n",
            "\n",
            "2021-09-20 14:51:03 (188 MB/s) - ‘Miniconda3-py37_4.8.2-Linux-x86_64.sh.1’ saved [85055499/85055499]\n",
            "\n",
            "PREFIX=/usr/local\n",
            "Unpacking payload ...\n",
            "Collecting package metadata (current_repodata.json): - \b\b\\ \b\bdone\n",
            "Solving environment: / \b\b- \b\b\\ \b\b| \b\b/ \b\bfailed with initial frozen solve. Retrying with flexible solve.\n",
            "Solving environment: \\ \b\b| \b\b/ \b\b- \b\b\\ \b\bfailed with repodata from current_repodata.json, will retry with next repodata source.\n",
            "Collecting package metadata (repodata.json): / \b\bdone\n",
            "Solving environment: \\ \b\b| \b\b/ \b\b- \b\b\\ \b\bfailed with initial frozen solve. Retrying with flexible solve.\n",
            "Solving environment: / \b\b- \b\b\\ \b\b| \b\b/ \n",
            "Found conflicts! Looking for incompatible packages.\n",
            "This can take several minutes.  Press CTRL-C to abort.\n",
            "\b\bfailed\n",
            "\n",
            "# >>>>>>>>>>>>>>>>>>>>>> ERROR REPORT <<<<<<<<<<<<<<<<<<<<<<\n",
            "\n",
            "    Traceback (most recent call last):\n",
            "      File \"site-packages/conda/cli/install.py\", line 265, in install\n",
            "      File \"site-packages/conda/core/solve.py\", line 117, in solve_for_transaction\n",
            "      File \"site-packages/conda/core/solve.py\", line 158, in solve_for_diff\n",
            "      File \"site-packages/conda/core/solve.py\", line 281, in solve_final_state\n",
            "      File \"site-packages/conda/common/io.py\", line 88, in decorated\n",
            "      File \"site-packages/conda/core/solve.py\", line 808, in _run_sat\n",
            "      File \"site-packages/conda/common/io.py\", line 88, in decorated\n",
            "      File \"site-packages/conda/resolve.py\", line 1316, in solve\n",
            "    conda.exceptions.UnsatisfiableError: \n",
            "    Did not find conflicting dependencies. If you would like to know which\n",
            "    packages conflict ensure that you have enabled unsatisfiable hints.\n",
            "    \n",
            "    conda config --set unsatisfiable_hints True\n",
            "                \n",
            "    \n",
            "    During handling of the above exception, another exception occurred:\n",
            "    \n",
            "    Traceback (most recent call last):\n",
            "      File \"site-packages/conda/exceptions.py\", line 1079, in __call__\n",
            "      File \"site-packages/conda/cli/main.py\", line 84, in _main\n",
            "      File \"site-packages/conda/cli/conda_argparse.py\", line 82, in do_call\n",
            "      File \"site-packages/conda/cli/main_install.py\", line 20, in execute\n",
            "      File \"site-packages/conda/cli/install.py\", line 299, in install\n",
            "      File \"site-packages/conda/core/solve.py\", line 117, in solve_for_transaction\n",
            "      File \"site-packages/conda/core/solve.py\", line 158, in solve_for_diff\n",
            "      File \"site-packages/conda/core/solve.py\", line 281, in solve_final_state\n",
            "      File \"site-packages/conda/common/io.py\", line 88, in decorated\n",
            "      File \"site-packages/conda/core/solve.py\", line 808, in _run_sat\n",
            "      File \"site-packages/conda/common/io.py\", line 88, in decorated\n",
            "      File \"site-packages/conda/resolve.py\", line 1318, in solve\n",
            "      File \"site-packages/conda/resolve.py\", line 347, in find_conflicts\n",
            "      File \"site-packages/conda/resolve.py\", line 507, in build_conflict_map\n",
            "      File \"site-packages/conda/resolve.py\", line 369, in breadth_first_search_for_dep_graph\n",
            "      File \"site-packages/conda/models/match_spec.py\", line 481, in union\n",
            "      File \"site-packages/conda/models/match_spec.py\", line 475, in merge\n",
            "      File \"site-packages/conda/models/match_spec.py\", line 475, in <lambda>\n",
            "      File \"site-packages/conda/models/match_spec.py\", line 502, in _merge\n",
            "      File \"site-packages/conda/models/match_spec.py\", line 764, in union\n",
            "    TypeError: sequence item 0: expected str instance, Channel found\n",
            "\n",
            "`$ /usr/local/conda.exe install --offline --file /usr/local/pkgs/env.txt -yp /usr/local`\n",
            "\n",
            "  environment variables:\n",
            "                 CIO_TEST=<not set>\n",
            "           CONDA_CHANNELS=https://repo.anaconda.com/pkgs/main,https://repo.anaconda.com/pkgs/mai\n",
            "                          n,https://repo.anaconda.com/pkgs/r,https://repo.anaconda.com/pkgs/pro\n",
            "CONDA_EXTRA_SAFETY_CHECKS=no\n",
            "          CONDA_PKGS_DIRS=/usr/local/pkgs\n",
            "   CONDA_ROLLBACK_ENABLED=no\n",
            "               CONDA_ROOT=/tmp/_MEIskfMGr\n",
            "      CONDA_SAFETY_CHECKS=disabled\n",
            "          LD_LIBRARY_PATH=/tmp/_MEIskfMGr\n",
            "             LIBRARY_PATH=/usr/local/cuda/lib64/stubs\n",
            "      OLD_LD_LIBRARY_PATH=/usr/lib64-nvidia\n",
            "                     PATH=/usr/local/nvidia/bin:/usr/local/cuda/bin:/usr/local/sbin:/usr/local/b\n",
            "                          in:/usr/sbin:/usr/bin:/sbin:/bin:/tools/node/bin:/tools/google-cloud-\n",
            "                          sdk/bin:/opt/bin\n",
            "               PYTHONPATH=/env/python\n",
            "           PYTHONWARNINGS=ignore:::pip._internal.cli.base_command\n",
            "       REQUESTS_CA_BUNDLE=<not set>\n",
            "            SSL_CERT_FILE=/tmp/_MEIskfMGr/certifi/cacert.pem\n",
            "\n",
            "     active environment : None\n",
            "       user config file : /root/.condarc\n",
            " populated config files : \n",
            "          conda version : 4.8.2\n",
            "    conda-build version : not installed\n",
            "         python version : 3.7.6.final.0\n",
            "       virtual packages : __cuda=11.4\n",
            "                          __glibc=2.27\n",
            "       base environment : /tmp/_MEIskfMGr  (read only)\n",
            "           channel URLs : https://repo.anaconda.com/pkgs/main/linux-64  (offline)\n",
            "                          https://repo.anaconda.com/pkgs/main/noarch  (offline)\n",
            "                          https://repo.anaconda.com/pkgs/r/linux-64  (offline)\n",
            "                          https://repo.anaconda.com/pkgs/r/noarch  (offline)\n",
            "                          https://repo.anaconda.com/pkgs/pro/linux-64  (offline)\n",
            "                          https://repo.anaconda.com/pkgs/pro/noarch  (offline)\n",
            "          package cache : /usr/local/pkgs\n",
            "       envs directories : /root/.conda/envs\n",
            "                          /tmp/_MEIskfMGr/envs\n",
            "               platform : linux-64\n",
            "             user-agent : conda/4.8.2 requests/2.22.0 CPython/3.7.6 Linux/5.4.104+ ubuntu/18.04.5 glibc/2.27\n",
            "                UID:GID : 0:0\n",
            "             netrc file : None\n",
            "           offline mode : True\n",
            "\n",
            "\n",
            "An unexpected error has occurred. Conda has prepared the above report.\n",
            "\n",
            "Upload successful.\n"
          ]
        }
      ]
    },
    {
      "cell_type": "code",
      "metadata": {
        "colab": {
          "base_uri": "https://localhost:8080/"
        },
        "id": "zc9QbRO7kbhb",
        "outputId": "0203d12c-e20f-4a39-ca6f-756be3a13c90"
      },
      "source": [
        "!conda install -c conda-forge openmm"
      ],
      "execution_count": 2,
      "outputs": [
        {
          "output_type": "stream",
          "name": "stdout",
          "text": [
            "Collecting package metadata (current_repodata.json): - \b\b\\ \b\b| \b\b/ \b\b- \b\b\\ \b\b| \b\b/ \b\b- \b\b\\ \b\b| \b\b/ \b\b- \b\b\\ \b\b| \b\b/ \b\bdone\n",
            "Solving environment: \\ \b\b| \b\b/ \b\b- \b\b\\ \b\b| \b\b/ \b\b- \b\b\\ \b\b| \b\b/ \b\b- \b\b\\ \b\b| \b\b/ \b\b- \b\b\\ \b\b| \b\b/ \b\b- \b\b\\ \b\b| \b\b/ \b\bdone\n",
            "\n",
            "# All requested packages already installed.\n",
            "\n"
          ]
        }
      ]
    },
    {
      "cell_type": "code",
      "metadata": {
        "colab": {
          "base_uri": "https://localhost:8080/"
        },
        "id": "TY2b9N3jl2Uw",
        "outputId": "ba151113-cce3-4473-efc1-6dd0546f5eac"
      },
      "source": [
        "!conda install -c conda-forge pdbfixer"
      ],
      "execution_count": 3,
      "outputs": [
        {
          "output_type": "stream",
          "name": "stdout",
          "text": [
            "Collecting package metadata (current_repodata.json): - \b\b\\ \b\b| \b\b/ \b\b- \b\b\\ \b\b| \b\b/ \b\b- \b\b\\ \b\b| \b\b/ \b\b- \b\b\\ \b\b| \b\b/ \b\b- \b\bdone\n",
            "Solving environment: | \b\b/ \b\b- \b\b\\ \b\b| \b\b/ \b\b- \b\b\\ \b\b| \b\b/ \b\b- \b\b\\ \b\b| \b\b/ \b\b- \b\b\\ \b\b| \b\b/ \b\b- \b\b\\ \b\b| \b\b/ \b\bdone\n",
            "\n",
            "# All requested packages already installed.\n",
            "\n"
          ]
        }
      ]
    },
    {
      "cell_type": "code",
      "metadata": {
        "colab": {
          "base_uri": "https://localhost:8080/"
        },
        "id": "NG8-Mi_zoelD",
        "outputId": "0eab2a3f-8e34-4432-c7cd-e2ea77a6635c"
      },
      "source": [
        "!pdbfixer --help"
      ],
      "execution_count": 4,
      "outputs": [
        {
          "output_type": "stream",
          "name": "stdout",
          "text": [
            "Usage: pdbfixer\n",
            "       pdbfixer filename [options] \n",
            "\n",
            "When run with no arguments, it launches the user interface.  If any arguments are specified, it runs in command line mode.\n",
            "\n",
            "Options:\n",
            "  -h, --help            show this help message and exit\n",
            "  --pdbid=PDBID         PDB id to retrieve from RCSB [default: None]\n",
            "  --url=URL             URL to retrieve PDB from [default: None]\n",
            "  --output=FILENAME     output pdb file [default: output.pdb]\n",
            "  --add-atoms=ATOMS     which missing atoms to add: all, heavy, hydrogen, or\n",
            "                        none [default: all]\n",
            "  --keep-heterogens=OPTION\n",
            "                        which heterogens to keep: all, water, or none\n",
            "                        [default: all]\n",
            "  --replace-nonstandard\n",
            "                        replace nonstandard residues with standard equivalents\n",
            "  --add-residues        add missing residues\n",
            "  --water-box=X Y Z     add a water box. The value is the box dimensions in nm\n",
            "                        [example: --water-box=2.5 2.4 3.0]\n",
            "  --ph=PH               the pH to use for adding missing hydrogens [default:\n",
            "                        7.0]\n",
            "  --positive-ion=ION    positive ion to include in the water box: Cs+, K+,\n",
            "                        Li+, Na+, or Rb+ [default: Na+]\n",
            "  --negative-ion=ION    negative ion to include in the water box: Cl-, Br-,\n",
            "                        F-, or I- [default: Cl-]\n",
            "  --ionic-strength=STRENGTH\n",
            "                        molar concentration of ions to add to the water box\n",
            "                        [default: 0.0]\n",
            "  --verbose             Print verbose output\n"
          ]
        }
      ]
    },
    {
      "cell_type": "code",
      "metadata": {
        "colab": {
          "base_uri": "https://localhost:8080/"
        },
        "id": "7fXgmwd8phqM",
        "outputId": "258a9a5f-f444-472a-a7f1-de05bd4cd50a"
      },
      "source": [
        "!pdbfixer --pdbid=3htb --output=myfile.pdb --add-residues "
      ],
      "execution_count": 5,
      "outputs": [
        {
          "output_type": "stream",
          "name": "stdout",
          "text": [
            "Warning: importing 'simtk.openmm' is deprecated.  Import 'openmm' instead.\n"
          ]
        }
      ]
    },
    {
      "cell_type": "code",
      "metadata": {
        "colab": {
          "base_uri": "https://localhost:8080/"
        },
        "id": "x8M_pSlsl5g6",
        "outputId": "86694887-5558-4c57-b07d-986d03b5a57d"
      },
      "source": [
        "from pdbfixer import PDBFixer\n",
        "from simtk.openmm.app import PDBFile\n",
        "fixer = PDBFixer(filename='myfile.pdb')\n",
        "fixer.findMissingResidues()\n",
        "fixer.findNonstandardResidues()\n",
        "fixer.replaceNonstandardResidues()\n",
        "fixer.removeHeterogens(True)\n",
        "fixer.findMissingAtoms()\n",
        "fixer.addMissingAtoms()\n",
        "fixer.addMissingHydrogens(7.0)\n",
        "fixer.addSolvent(fixer.topology.getUnitCellDimensions())\n",
        "PDBFile.writeFile(fixer.topology, fixer.positions, open('input.pdb', 'w'))"
      ],
      "execution_count": 6,
      "outputs": [
        {
          "output_type": "stream",
          "name": "stderr",
          "text": [
            "Warning: importing 'simtk.openmm' is deprecated.  Import 'openmm' instead.\n"
          ]
        }
      ]
    },
    {
      "cell_type": "code",
      "metadata": {
        "colab": {
          "base_uri": "https://localhost:8080/"
        },
        "id": "RJpJNOkzkbqu",
        "outputId": "77123a0d-c726-4555-a9a9-6a0594a02f11"
      },
      "source": [
        "from simtk.openmm.app import *\n",
        "from simtk.openmm import *\n",
        "from simtk.unit import *\n",
        "from sys import stdout\n",
        "\n",
        "pdb = PDBFile('input.pdb')\n",
        "forcefield = ForceField('amber99sb.xml', 'tip3p.xml')\n",
        "system = forcefield.createSystem(pdb.topology, nonbondedMethod=PME, nonbondedCutoff=1*nanometer, constraints=HBonds)\n",
        "integrator = LangevinIntegrator(300*kelvin, 1/picosecond, 0.002*picoseconds)\n",
        "simulation = Simulation(pdb.topology, system, integrator)\n",
        "simulation.context.setPositions(pdb.positions)\n",
        "simulation.minimizeEnergy()\n",
        "simulation.reporters.append(PDBReporter('output.pdb', 1000))\n",
        "simulation.reporters.append(StateDataReporter(stdout, 1000, step=True, potentialEnergy=True, temperature=True))\n",
        "simulation.step(100000)"
      ],
      "execution_count": 8,
      "outputs": [
        {
          "output_type": "stream",
          "name": "stdout",
          "text": [
            "#\"Step\",\"Potential Energy (kJ/mole)\",\"Temperature (K)\"\n",
            "1000,-392594.3403185059,250.43010649261626\n",
            "2000,-374818.9653185059,286.04927585047625\n",
            "3000,-369570.4653185059,297.3358102460518\n",
            "4000,-367965.2153185059,298.5230279826559\n",
            "5000,-367726.3403185059,298.0861061138377\n",
            "6000,-367040.4653185059,303.4847113506316\n",
            "7000,-367217.7153185059,300.5504198698757\n",
            "8000,-367943.7153185059,299.0864990635316\n",
            "9000,-367351.9653185059,297.5111558417348\n",
            "10000,-368190.2153185059,300.68008923547285\n",
            "11000,-367534.7153185059,300.1938013554846\n",
            "12000,-368215.7153185059,303.6503206924139\n",
            "13000,-366749.7153185059,300.0202958792206\n",
            "14000,-367688.2153185059,301.93414694370864\n",
            "15000,-367450.4653185059,298.9430327444774\n",
            "16000,-367010.2153185059,300.3396310137783\n",
            "17000,-368046.4653185059,299.67331932959956\n",
            "18000,-368102.4653185059,299.8267552807141\n",
            "19000,-368654.9653185059,300.4488057766935\n",
            "20000,-369003.2153185059,298.80051717174246\n",
            "21000,-367499.9653185059,295.4399174461358\n",
            "22000,-368794.5903185059,297.27688814262183\n",
            "23000,-366962.4653185059,299.3492415660463\n",
            "24000,-367822.0903185059,297.9970734545808\n",
            "25000,-366094.7153185059,298.0434201425909\n",
            "26000,-366452.9653185059,299.1511148715015\n",
            "27000,-367102.4653185059,299.12008926631637\n",
            "28000,-368265.9653185059,298.32965484243374\n",
            "29000,-368489.5903185059,298.24051271907945\n",
            "30000,-367390.9653185059,300.25597452527194\n",
            "31000,-366807.7153185059,299.389764644477\n",
            "32000,-366559.7153185059,299.17758701890176\n",
            "33000,-366497.9653185059,298.8771361613992\n",
            "34000,-366726.7153185059,296.7283406463203\n",
            "35000,-367963.4653185059,298.414302909497\n",
            "36000,-367692.0903185059,301.50788017675256\n",
            "37000,-367653.8403185059,302.5125280572825\n",
            "38000,-367618.7153185059,297.15944579679217\n",
            "39000,-367452.5903185059,300.89336302641715\n",
            "40000,-367502.4653185059,299.52073839120766\n",
            "41000,-367370.2153185059,295.7272258220887\n",
            "42000,-367363.2153185059,297.5624912019809\n",
            "43000,-366391.2153185059,296.6903636133109\n",
            "44000,-367918.2153185059,300.6013300563856\n",
            "45000,-368025.2153185059,298.1877675500358\n",
            "46000,-368510.7153185059,297.7525623829295\n",
            "47000,-367566.7153185059,302.13330606257665\n",
            "48000,-367811.7153185059,298.7717535872754\n",
            "49000,-366297.7153185059,298.3779695151439\n",
            "50000,-366514.7153185059,299.639775915897\n",
            "51000,-367626.8403185059,300.564672829512\n",
            "52000,-367110.9653185059,301.79000098686265\n",
            "53000,-366278.5903185059,299.02292155669943\n",
            "54000,-366883.5903185059,297.91922172779044\n",
            "55000,-368055.8403185059,299.47792155626195\n",
            "56000,-367863.9653185059,301.94082510984043\n",
            "57000,-367234.3403185059,299.1807650630395\n",
            "58000,-367770.8403185059,299.0379398031114\n",
            "59000,-367162.7153185059,299.3160943523138\n",
            "60000,-368148.4653185059,295.5711086449699\n",
            "61000,-368003.2153185059,300.57716336505075\n",
            "62000,-368377.7153185059,299.88767072368444\n",
            "63000,-367830.2153185059,298.5940528410889\n",
            "64000,-367928.2153185059,298.76277341236647\n",
            "65000,-368151.3403185059,300.07273687502686\n",
            "66000,-367848.5903185059,301.0169035091591\n",
            "67000,-366987.3403185059,299.5516404780661\n",
            "68000,-367460.8403185059,300.7715444776548\n",
            "69000,-367607.2153185059,300.6929262967641\n",
            "70000,-367342.9653185059,302.53248757437575\n",
            "71000,-367579.8403185059,300.29166336576077\n",
            "72000,-366964.9653185059,300.59191012787227\n",
            "73000,-366878.3403185059,299.43568039116207\n",
            "74000,-367440.4653185059,301.36041478245454\n",
            "75000,-367599.0903185059,301.79805296673584\n",
            "76000,-366959.8403185059,298.8810698438779\n",
            "77000,-368328.4653185059,298.03249874346585\n",
            "78000,-366693.2153185059,300.47231192966825\n",
            "79000,-366884.0903185059,300.3749681168741\n",
            "80000,-367117.0903185059,299.3102199054246\n",
            "81000,-367319.9653185059,300.44583635161155\n",
            "82000,-367211.8403185059,303.35869471215176\n",
            "83000,-367593.2153185059,301.2525033195607\n",
            "84000,-367114.9653185059,299.28084127822876\n",
            "85000,-367068.4653185059,299.8619560360876\n",
            "86000,-368084.7153185059,300.89443575251437\n",
            "87000,-368014.7153185059,299.79690636044967\n",
            "88000,-368173.0903185059,298.4737551391952\n",
            "89000,-368163.9653185059,301.768275796515\n",
            "90000,-366981.4653185059,297.87974120161533\n",
            "91000,-366375.9653185059,300.1174360686278\n",
            "92000,-366858.9653185059,302.94612381000496\n",
            "93000,-367492.7153185059,299.51912322497304\n",
            "94000,-367591.2153185059,298.3282521839215\n",
            "95000,-366832.5903185059,299.1907532869734\n",
            "96000,-367381.7153185059,298.54679332698635\n",
            "97000,-368222.4653185059,299.638998914741\n",
            "98000,-368710.9653185059,298.9147519912556\n",
            "99000,-367819.4653185059,301.5333624325752\n",
            "100000,-367665.7153185059,299.79090934746574\n"
          ]
        }
      ]
    }
  ]
}