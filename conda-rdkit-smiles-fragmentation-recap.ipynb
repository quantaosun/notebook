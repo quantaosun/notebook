{
  "nbformat": 4,
  "nbformat_minor": 0,
  "metadata": {
    "colab": {
      "name": "“CDD-ML-Part-2-Exploratory-Data-Analysis-Acetylcholinesterase.ipynb”的副本",
      "provenance": [],
      "collapsed_sections": [],
      "include_colab_link": true
    },
    "kernelspec": {
      "name": "python3",
      "display_name": "Python 3"
    }
  },
  "cells": [
    {
      "cell_type": "markdown",
      "metadata": {
        "id": "view-in-github",
        "colab_type": "text"
      },
      "source": [
        "<a href=\"https://colab.research.google.com/github/quantaosun/notebook/blob/main/conda-rdkit-smiles-fragmentation-recap.ipynb\" target=\"_parent\"><img src=\"https://colab.research.google.com/assets/colab-badge.svg\" alt=\"Open In Colab\"/></a>"
      ]
    },
    {
      "cell_type": "markdown",
      "metadata": {
        "id": "o-4IOizard4P"
      },
      "source": [
        "## **Install conda and rdkit and fragment a molecule**\n",
        "\n",
        "---\n",
        "\n"
      ]
    },
    {
      "cell_type": "code",
      "metadata": {
        "id": "H0mjQ2PcrSe5"
      },
      "source": [
        "! wget https://repo.anaconda.com/miniconda/Miniconda3-py37_4.8.2-Linux-x86_64.sh\n",
        "! chmod +x Miniconda3-py37_4.8.2-Linux-x86_64.sh\n",
        "! bash ./Miniconda3-py37_4.8.2-Linux-x86_64.sh -b -f -p /usr/local\n",
        "! conda install -c rdkit rdkit -y\n",
        "import sys\n",
        "sys.path.append('/usr/local/lib/python3.7/site-packages/')"
      ],
      "execution_count": null,
      "outputs": []
    },
    {
      "cell_type": "code",
      "metadata": {
        "id": "ouBs_PpRjOzq",
        "colab": {
          "base_uri": "https://localhost:8080/"
        },
        "outputId": "82cecbfc-9bd3-49db-ff4f-946ba7fced31"
      },
      "source": [
        "from rdkit import Chem\n",
        "from rdkit.Chem import Recap\n",
        "m = Chem.MolFromSmiles('c1ccccc1OCCOC(=O)CC')\n",
        "hierarch = Recap.RecapDecompose(m)\n",
        "type(hierarch)"
      ],
      "execution_count": null,
      "outputs": [
        {
          "output_type": "execute_result",
          "data": {
            "text/plain": [
              "rdkit.Chem.Recap.RecapHierarchyNode"
            ]
          },
          "metadata": {
            "tags": []
          },
          "execution_count": 2
        }
      ]
    },
    {
      "cell_type": "code",
      "metadata": {
        "id": "0NOh-hsVjPB7",
        "colab": {
          "base_uri": "https://localhost:8080/",
          "height": 38
        },
        "outputId": "f7ccdf13-8193-4eaf-eb52-f5d91db35ea1"
      },
      "source": [
        "hierarch.smiles"
      ],
      "execution_count": null,
      "outputs": [
        {
          "output_type": "execute_result",
          "data": {
            "application/vnd.google.colaboratory.intrinsic+json": {
              "type": "string"
            },
            "text/plain": [
              "'CCC(=O)OCCOc1ccccc1'"
            ]
          },
          "metadata": {
            "tags": []
          },
          "execution_count": 3
        }
      ]
    },
    {
      "cell_type": "code",
      "metadata": {
        "id": "JK-dTMLkjPK4",
        "colab": {
          "base_uri": "https://localhost:8080/"
        },
        "outputId": "518b6361-9410-459a-a4be-680606a5fe19"
      },
      "source": [
        "ks=hierarch.children.keys()\n",
        "sorted(ks)"
      ],
      "execution_count": null,
      "outputs": [
        {
          "output_type": "execute_result",
          "data": {
            "text/plain": [
              "['*C(=O)CC', '*CCOC(=O)CC', '*CCOc1ccccc1', '*OCCOc1ccccc1', '*c1ccccc1']"
            ]
          },
          "metadata": {
            "tags": []
          },
          "execution_count": 4
        }
      ]
    },
    {
      "cell_type": "code",
      "metadata": {
        "id": "I5JK-CTNjPTZ",
        "colab": {
          "base_uri": "https://localhost:8080/"
        },
        "outputId": "462f445e-b06d-462d-ff64-fee205d48dc9"
      },
      "source": [
        "ks=hierarch.GetLeaves().keys()\n",
        "ks=sorted(ks)\n",
        "ks\n"
      ],
      "execution_count": null,
      "outputs": [
        {
          "output_type": "execute_result",
          "data": {
            "text/plain": [
              "['*C(=O)CC', '*CCO*', '*CCOc1ccccc1', '*c1ccccc1']"
            ]
          },
          "metadata": {
            "tags": []
          },
          "execution_count": 5
        }
      ]
    },
    {
      "cell_type": "code",
      "metadata": {
        "id": "Q1vQqeVJjPZt",
        "colab": {
          "base_uri": "https://localhost:8080/",
          "height": 38
        },
        "outputId": "f3cfd684-903e-44a6-aafc-cb5940abf6ce"
      },
      "source": [
        "leaf = hierarch.GetLeaves()[ks[0]]\n",
        "Chem.MolToSmiles(leaf.mol)"
      ],
      "execution_count": null,
      "outputs": [
        {
          "output_type": "execute_result",
          "data": {
            "application/vnd.google.colaboratory.intrinsic+json": {
              "type": "string"
            },
            "text/plain": [
              "'*C(=O)CC'"
            ]
          },
          "metadata": {
            "tags": []
          },
          "execution_count": 6
        }
      ]
    }
  ]
}