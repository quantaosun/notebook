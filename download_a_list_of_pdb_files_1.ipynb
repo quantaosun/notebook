{
  "nbformat": 4,
  "nbformat_minor": 0,
  "metadata": {
    "colab": {
      "name": "download a list of pdb files.ipynb",
      "provenance": [],
      "collapsed_sections": []
    },
    "kernelspec": {
      "name": "python3",
      "display_name": "Python 3"
    },
    "language_info": {
      "name": "python"
    }
  },
  "cells": [
    {
      "cell_type": "code",
      "metadata": {
        "colab": {
          "base_uri": "https://localhost:8080/"
        },
        "id": "hUzoY3lK7sUD",
        "outputId": "3ac5466b-6512-4c00-8443-189a4a895e46"
      },
      "source": [
        "%%bash \n",
        "pdbid=\"3htb 1a1w 1brc\"\n",
        "for i in $pdbid\n",
        "do\n",
        "    wget http://www.rcsb.org/pdb/files/$i.pdb\n",
        "done"
      ],
      "execution_count": 15,
      "outputs": [
        {
          "output_type": "stream",
          "text": [
            "--2021-04-19 02:46:55--  http://www.rcsb.org/pdb/files/3htb.pdb\n",
            "Resolving www.rcsb.org (www.rcsb.org)... 132.249.210.225\n",
            "Connecting to www.rcsb.org (www.rcsb.org)|132.249.210.225|:80... connected.\n",
            "HTTP request sent, awaiting response... 301 Moved Permanently\n",
            "Location: https://files.rcsb.org/download/3htb.pdb [following]\n",
            "--2021-04-19 02:46:55--  https://files.rcsb.org/download/3htb.pdb\n",
            "Resolving files.rcsb.org (files.rcsb.org)... 132.249.210.142\n",
            "Connecting to files.rcsb.org (files.rcsb.org)|132.249.210.142|:443... connected.\n",
            "HTTP request sent, awaiting response... 200 OK\n",
            "Length: unspecified [application/octet-stream]\n",
            "Saving to: ‘3htb.pdb’\n",
            "\n",
            "     0K .......... .......... .......... .......... ..........  187K\n",
            "    50K .......... .......... .......... .......... ..........  376K\n",
            "   100K .......... .......... .......... .......... .......... 37.9M\n",
            "   150K .......... ..                                          45.5M=0.4s\n",
            "\n",
            "2021-04-19 02:46:56 (404 KB/s) - ‘3htb.pdb’ saved [165888]\n",
            "\n",
            "--2021-04-19 02:46:56--  http://www.rcsb.org/pdb/files/1a1w.pdb\n",
            "Resolving www.rcsb.org (www.rcsb.org)... 132.249.210.225\n",
            "Connecting to www.rcsb.org (www.rcsb.org)|132.249.210.225|:80... connected.\n",
            "HTTP request sent, awaiting response... 301 Moved Permanently\n",
            "Location: https://files.rcsb.org/download/1a1w.pdb [following]\n",
            "--2021-04-19 02:46:56--  https://files.rcsb.org/download/1a1w.pdb\n",
            "Resolving files.rcsb.org (files.rcsb.org)... 132.249.210.142\n",
            "Connecting to files.rcsb.org (files.rcsb.org)|132.249.210.142|:443... connected.\n",
            "HTTP request sent, awaiting response... 200 OK\n",
            "Length: unspecified [application/octet-stream]\n",
            "Saving to: ‘1a1w.pdb’\n",
            "\n",
            "     0K .......... .......... .......... .......... ..........  186K\n",
            "    50K .......... .......... .......... .......... ..........  372K\n",
            "   100K .......... ..........                                  46.8M=0.4s\n",
            "\n",
            "2021-04-19 02:46:57 (299 KB/s) - ‘1a1w.pdb’ saved [123687]\n",
            "\n",
            "--2021-04-19 02:46:57--  http://www.rcsb.org/pdb/files/1brc.pdb\n",
            "Resolving www.rcsb.org (www.rcsb.org)... 132.249.210.225\n",
            "Connecting to www.rcsb.org (www.rcsb.org)|132.249.210.225|:80... connected.\n",
            "HTTP request sent, awaiting response... 301 Moved Permanently\n",
            "Location: https://files.rcsb.org/download/1brc.pdb [following]\n",
            "--2021-04-19 02:46:58--  https://files.rcsb.org/download/1brc.pdb\n",
            "Resolving files.rcsb.org (files.rcsb.org)... 132.249.210.142\n",
            "Connecting to files.rcsb.org (files.rcsb.org)|132.249.210.142|:443... connected.\n",
            "HTTP request sent, awaiting response... 200 OK\n",
            "Length: unspecified [application/octet-stream]\n",
            "Saving to: ‘1brc.pdb’\n",
            "\n",
            "     0K .......... .......... .......... .......... ..........  191K\n",
            "    50K .......... .......... .......... .......... ..........  384K\n",
            "   100K .......... .......... .......... .......... .......... 43.9M\n",
            "   150K .......... .......... .......... .......... .......... 1.31M\n",
            "   200K ..........                                             48.9M=0.4s\n",
            "\n",
            "2021-04-19 02:46:58 (488 KB/s) - ‘1brc.pdb’ saved [215217]\n",
            "\n"
          ],
          "name": "stderr"
        }
      ]
    },
    {
      "cell_type": "code",
      "metadata": {
        "id": "_UdD4kAcjHg0"
      },
      "source": [
        "! zip -r pdblist.zip . -i *.pdb"
      ],
      "execution_count": null,
      "outputs": []
    },
    {
      "cell_type": "markdown",
      "metadata": {
        "id": "qZ6gNcDUlLTE"
      },
      "source": [
        "# Then please mannually download the files to your local labtop if you use this online"
      ]
    }
  ]
}