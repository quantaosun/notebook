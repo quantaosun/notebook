{
  "nbformat": 4,
  "nbformat_minor": 0,
  "metadata": {
    "colab": {
      "name": "NAMD_3.0alpha8_Linux-x86_64-multicore-CUDA-SingleNode.tar.gz.ipynb",
      "provenance": [],
      "authorship_tag": "ABX9TyOjvR4ockityDAiTZOt4MQb",
      "include_colab_link": true
    },
    "kernelspec": {
      "name": "python3",
      "display_name": "Python 3"
    },
    "language_info": {
      "name": "python"
    }
  },
  "cells": [
    {
      "cell_type": "markdown",
      "metadata": {
        "id": "view-in-github",
        "colab_type": "text"
      },
      "source": [
        "<a href=\"https://colab.research.google.com/github/quantaosun/notebook/blob/main/NAMD_3_0alpha8_Linux_x86_64_multicore_CUDA_SingleNode_tar_gz.ipynb\" target=\"_parent\"><img src=\"https://colab.research.google.com/assets/colab-badge.svg\" alt=\"Open In Colab\"/></a>"
      ]
    },
    {
      "cell_type": "code",
      "metadata": {
        "colab": {
          "base_uri": "https://localhost:8080/"
        },
        "id": "3fOqdOAwOxo2",
        "outputId": "745cbcac-3d40-4303-ec23-8b628865deb6"
      },
      "source": [
        "from google.colab import drive\n",
        "drive.mount('/content/drive')"
      ],
      "execution_count": 1,
      "outputs": [
        {
          "output_type": "stream",
          "text": [
            "Mounted at /content/drive\n"
          ],
          "name": "stdout"
        }
      ]
    },
    {
      "cell_type": "code",
      "metadata": {
        "id": "XC6NXjzGOueA"
      },
      "source": [
        "!mkdir /content/drive/MyDrive/2021-07-12"
      ],
      "execution_count": 2,
      "outputs": []
    },
    {
      "cell_type": "code",
      "metadata": {
        "colab": {
          "base_uri": "https://localhost:8080/"
        },
        "id": "ssqkLZchPNuW",
        "outputId": "808abcb2-4a88-4c49-d3b1-ced1160f4853"
      },
      "source": [
        "!wget https://www.ks.uiuc.edu/Research/namd/alpha/3.0alpha/download/NAMD_3.0alpha8_Linux-x86_64-multicore-CUDA-SingleNode.tar.gz"
      ],
      "execution_count": 3,
      "outputs": [
        {
          "output_type": "stream",
          "text": [
            "--2021-07-12 05:47:09--  https://www.ks.uiuc.edu/Research/namd/alpha/3.0alpha/download/NAMD_3.0alpha8_Linux-x86_64-multicore-CUDA-SingleNode.tar.gz\n",
            "Resolving www.ks.uiuc.edu (www.ks.uiuc.edu)... 130.126.120.43\n",
            "Connecting to www.ks.uiuc.edu (www.ks.uiuc.edu)|130.126.120.43|:443... connected.\n",
            "HTTP request sent, awaiting response... 200 OK\n",
            "Length: 217898714 (208M) [application/x-gzip]\n",
            "Saving to: ‘NAMD_3.0alpha8_Linux-x86_64-multicore-CUDA-SingleNode.tar.gz’\n",
            "\n",
            "NAMD_3.0alpha8_Linu 100%[===================>] 207.80M  17.2MB/s    in 13s     \n",
            "\n",
            "2021-07-12 05:47:27 (15.5 MB/s) - ‘NAMD_3.0alpha8_Linux-x86_64-multicore-CUDA-SingleNode.tar.gz’ saved [217898714/217898714]\n",
            "\n"
          ],
          "name": "stdout"
        }
      ]
    },
    {
      "cell_type": "code",
      "metadata": {
        "id": "zE9k2CD4Qmzd"
      },
      "source": [
        "!cp NAMD_3.0alpha8_Linux-x86_64-multicore-CUDA-SingleNode.tar.gz /content/drive/MyDrive/2021-07-12"
      ],
      "execution_count": 4,
      "outputs": []
    },
    {
      "cell_type": "code",
      "metadata": {
        "id": "ho8mGP1QPN2E"
      },
      "source": [
        "!cp need_to_run_solvent.tar.gz /content/drive/MyDrive/2021-07-12"
      ],
      "execution_count": 5,
      "outputs": []
    },
    {
      "cell_type": "code",
      "metadata": {
        "colab": {
          "base_uri": "https://localhost:8080/"
        },
        "id": "2W2yZQzYQ_DN",
        "outputId": "7dc27a89-5243-40bb-fad0-c28b2243a227"
      },
      "source": [
        "%cd drive/MyDrive/2021-07-12"
      ],
      "execution_count": 7,
      "outputs": [
        {
          "output_type": "stream",
          "text": [
            "/content/drive/MyDrive/2021-07-12\n"
          ],
          "name": "stdout"
        }
      ]
    },
    {
      "cell_type": "code",
      "metadata": {
        "id": "wa-VmXRVQ_-W"
      },
      "source": [
        "!tar -xvf NAMD_3.0alpha8_Linux-x86_64-multicore-CUDA-SingleNode.tar.gz"
      ],
      "execution_count": null,
      "outputs": []
    },
    {
      "cell_type": "code",
      "metadata": {
        "id": "xm4sHsnQROmF"
      },
      "source": [
        "!tar -xvf need_to_run_solvent.tar.gz"
      ],
      "execution_count": null,
      "outputs": []
    },
    {
      "cell_type": "code",
      "metadata": {
        "colab": {
          "base_uri": "https://localhost:8080/"
        },
        "id": "lvtZVsnbRAEM",
        "outputId": "0fc6d200-e87c-4027-be0b-563e92c3dfb0"
      },
      "source": [
        "%cd /content/drive/MyDrive/2021-07-12/files_from_Feprepare/complex/complex-input-files/"
      ],
      "execution_count": 13,
      "outputs": [
        {
          "output_type": "stream",
          "text": [
            "/content/drive/MyDrive/2021-07-12/files_from_Feprepare/complex/complex-input-files\n"
          ],
          "name": "stdout"
        }
      ]
    },
    {
      "cell_type": "markdown",
      "metadata": {
        "id": "HxKt5_wpS55f"
      },
      "source": [
        "Double check where is namd3 /content/drive/MyDrive/2021-07-12/NAMD_3.0alpha8_Linux-x86_64-multicore-CUDA/namd3"
      ]
    },
    {
      "cell_type": "code",
      "metadata": {
        "colab": {
          "base_uri": "https://localhost:8080/"
        },
        "id": "Rb_brthPQ_F_",
        "outputId": "5724b4b7-d087-4553-8df9-63107715633d"
      },
      "source": [
        "!"
      ],
      "execution_count": 16,
      "outputs": [
        {
          "output_type": "stream",
          "text": [
            "NVIDIA-SMI has failed because it couldn't communicate with the NVIDIA driver. Make sure that the latest NVIDIA driver is installed and running.\n",
            "\n"
          ],
          "name": "stdout"
        }
      ]
    },
    {
      "cell_type": "code",
      "metadata": {
        "id": "AvbEfkKdQ_IW"
      },
      "source": [
        ""
      ],
      "execution_count": null,
      "outputs": []
    }
  ]
}