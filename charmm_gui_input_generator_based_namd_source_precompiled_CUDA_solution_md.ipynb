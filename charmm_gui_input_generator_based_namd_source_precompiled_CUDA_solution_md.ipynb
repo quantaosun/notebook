{
  "nbformat": 4,
  "nbformat_minor": 0,
  "metadata": {
    "colab": {
      "name": "standard_namd_solution_md.ipynb",
      "provenance": []
    },
    "kernelspec": {
      "name": "python3",
      "display_name": "Python 3"
    },
    "language_info": {
      "name": "python"
    },
    "accelerator": "GPU"
  },
  "cells": [
    {
      "cell_type": "markdown",
      "metadata": {
        "id": "97iCFl061Wjt"
      },
      "source": [
        "# The default README file which is supposed to be cat into a .csh file, apparently is written in a csh format. So, let's install the csh shell environment."
      ]
    },
    {
      "cell_type": "code",
      "metadata": {
        "colab": {
          "base_uri": "https://localhost:8080/"
        },
        "id": "x8zkJcPbnJ-9",
        "outputId": "d6a39251-309d-4b8c-e835-4c5451786e3f"
      },
      "source": [
        "!apt-get install csh"
      ],
      "execution_count": 1,
      "outputs": [
        {
          "output_type": "stream",
          "text": [
            "Reading package lists... Done\n",
            "Building dependency tree       \n",
            "Reading state information... Done\n",
            "The following NEW packages will be installed:\n",
            "  csh\n",
            "0 upgraded, 1 newly installed, 0 to remove and 39 not upgraded.\n",
            "Need to get 243 kB of archives.\n",
            "After this operation, 358 kB of additional disk space will be used.\n",
            "Get:1 http://archive.ubuntu.com/ubuntu bionic-updates/universe amd64 csh amd64 20110502-3ubuntu0.18.04.1 [243 kB]\n",
            "Fetched 243 kB in 0s (495 kB/s)\n",
            "Selecting previously unselected package csh.\n",
            "(Reading database ... 160772 files and directories currently installed.)\n",
            "Preparing to unpack .../csh_20110502-3ubuntu0.18.04.1_amd64.deb ...\n",
            "Unpacking csh (20110502-3ubuntu0.18.04.1) ...\n",
            "Setting up csh (20110502-3ubuntu0.18.04.1) ...\n",
            "update-alternatives: using /bin/bsd-csh to provide /bin/csh (csh) in auto mode\n",
            "Processing triggers for man-db (2.8.3-2ubuntu0.1) ...\n"
          ],
          "name": "stdout"
        }
      ]
    },
    {
      "cell_type": "markdown",
      "metadata": {
        "id": "5wgZ-xIt10lq"
      },
      "source": [
        "# Now, I am gonna to upload both my input file for the namd solution simulation, and the NAMD_2021_precompiled package to the content folder. Then, we need to unzip the namd package, use the absolute path to do the simulation.\n",
        "Note I have previously allow notebook to get access to my google drive, and the simulation input files have been previously uploaded to my drive as well, so all I need to do here is to copy the input files and namd package to the /content/ directory"
      ]
    },
    {
      "cell_type": "code",
      "metadata": {
        "id": "cq0cdeWH2Z7p"
      },
      "source": [
        "! tar -xvf charmm-gui_251232655.tgz"
      ],
      "execution_count": null,
      "outputs": []
    },
    {
      "cell_type": "code",
      "metadata": {
        "colab": {
          "base_uri": "https://localhost:8080/"
        },
        "id": "Sxhw8bqQ6XGq",
        "outputId": "7a3ae412-6ae2-4cbb-ecd6-c97c1557611a"
      },
      "source": [
        "! wget https://www.ks.uiuc.edu/Research/namd/cvs/download/741376/NAMD_Git-2021-07-01_Linux-x86_64-multicore-CUDA.tar.gz"
      ],
      "execution_count": 6,
      "outputs": [
        {
          "output_type": "stream",
          "text": [
            "--2021-07-02 07:09:44--  https://www.ks.uiuc.edu/Research/namd/cvs/download/741376/NAMD_Git-2021-07-01_Linux-x86_64-multicore-CUDA.tar.gz\n",
            "Resolving www.ks.uiuc.edu (www.ks.uiuc.edu)... 130.126.120.43\n",
            "Connecting to www.ks.uiuc.edu (www.ks.uiuc.edu)|130.126.120.43|:443... connected.\n",
            "HTTP request sent, awaiting response... 200 OK\n",
            "Length: 169959990 (162M) [application/x-gzip]\n",
            "Saving to: ‘NAMD_Git-2021-07-01_Linux-x86_64-multicore-CUDA.tar.gz’\n",
            "\n",
            "NAMD_Git-2021-07-01 100%[===================>] 162.09M  99.3MB/s    in 1.6s    \n",
            "\n",
            "2021-07-02 07:09:48 (99.3 MB/s) - ‘NAMD_Git-2021-07-01_Linux-x86_64-multicore-CUDA.tar.gz’ saved [169959990/169959990]\n",
            "\n"
          ],
          "name": "stdout"
        }
      ]
    },
    {
      "cell_type": "code",
      "metadata": {
        "id": "znoXSb4c7iiV"
      },
      "source": [
        "!tar -xvf NAMD_Git-2021-07-01_Linux-x86_64-multicore-CUDA.tar.gz"
      ],
      "execution_count": null,
      "outputs": []
    },
    {
      "cell_type": "markdown",
      "metadata": {
        "id": "UTYgvb3a8agi"
      },
      "source": [
        "# Now we need to have a look at the README file , and modify it into a csh shell file, you could just use cat command line \"cat README > run.csh\" and then use the command \" csh run.csh\" to run  this script"
      ]
    },
    {
      "cell_type": "code",
      "metadata": {
        "id": "1phgGPnZERjs"
      },
      "source": [
        "!cp /content/drive/MyDrive/2021-07-02/charmm-gui_251232655.tgz /content/"
      ],
      "execution_count": 10,
      "outputs": []
    },
    {
      "cell_type": "code",
      "metadata": {
        "id": "q_L6VsAIEg4B"
      },
      "source": [
        "!tar -xvf charmm-gui_251232655.tgz"
      ],
      "execution_count": null,
      "outputs": []
    },
    {
      "cell_type": "code",
      "metadata": {
        "id": "VEoqdXZT8Kwo"
      },
      "source": [
        "%cd /content/charmm-gui-251232655/namd/"
      ],
      "execution_count": null,
      "outputs": []
    },
    {
      "cell_type": "code",
      "metadata": {
        "id": "sk9WWkzP8Ky3"
      },
      "source": [
        "!cat README > run.csh "
      ],
      "execution_count": 13,
      "outputs": []
    },
    {
      "cell_type": "markdown",
      "metadata": {
        "id": "KoQlaigvAEFa"
      },
      "source": [
        "# To narrow the time scale I mannually opened the run.csh file and change the time from 10ns to 2ns. You also need to modify the original namd2 path to /content/NAMD_Git-2021-07-01_Linux-x86_64-multicore-CUDA/namd2."
      ]
    },
    {
      "cell_type": "code",
      "metadata": {
        "id": "YYwjtSj8Hih1"
      },
      "source": [
        "!csh run.csh"
      ],
      "execution_count": null,
      "outputs": []
    },
    {
      "cell_type": "code",
      "metadata": {
        "id": "-YZ1G569IL1o"
      },
      "source": [
        ""
      ],
      "execution_count": null,
      "outputs": []
    },
    {
      "cell_type": "markdown",
      "metadata": {
        "id": "3TpST3TtG0B4"
      },
      "source": [
        "# One of the biggest headace of using cloud computing is that you always at a risk of losing everything at any time, after the simulation, you definately want to save the output files preperly to downloaded to local computer or like use the next code to save it to your online drive."
      ]
    },
    {
      "cell_type": "code",
      "metadata": {
        "id": "vwq9bb6iFsKX"
      },
      "source": [
        "# Import PyDrive and associated libraries.\n",
        "# This only needs to be done once in a notebook.\n",
        "from pydrive.auth import GoogleAuth\n",
        "from pydrive.drive import GoogleDrive\n",
        "from google.colab import auth\n",
        "from oauth2client.client import GoogleCredentials\n",
        "\n",
        "# Authenticate and create the PyDrive client.\n",
        "# This only needs to be done once in a notebook.\n",
        "auth.authenticate_user()\n",
        "gauth = GoogleAuth()\n",
        "gauth.credentials = GoogleCredentials.get_application_default()\n",
        "drive = GoogleDrive(gauth)\n",
        "\n",
        "# Create & upload a text file.\n",
        "uploaded = drive.CreateFile({'title': 'Sample file.txt'})\n",
        "uploaded.SetContentString('Sample upload file content')\n",
        "uploaded.Upload()\n",
        "print('Uploaded file with ID {}'.format(uploaded.get('id')))"
      ],
      "execution_count": null,
      "outputs": []
    },
    {
      "cell_type": "code",
      "metadata": {
        "id": "ZwRiqDaSBXsH"
      },
      "source": [
        ""
      ],
      "execution_count": null,
      "outputs": []
    },
    {
      "cell_type": "code",
      "metadata": {
        "id": "3YWHETysBXuX"
      },
      "source": [
        ""
      ],
      "execution_count": null,
      "outputs": []
    }
  ]
}