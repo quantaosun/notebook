{
 "cells": [
  {
   "cell_type": "markdown",
   "metadata": {},
   "source": [
    "(example from http://pymolwiki.org/index.php/Gallery )"
   ]
  },
  {
   "cell_type": "code",
   "execution_count": 1,
   "metadata": {},
   "outputs": [
    {
     "name": "stdout",
     "output_type": "stream",
     "text": [
      "Populating the interactive namespace from numpy and matplotlib\n"
     ]
    }
   ],
   "source": [
    "%pylab inline\n",
    "from ipymol import viewer as pymol"
   ]
  },
  {
   "cell_type": "code",
   "execution_count": 2,
   "metadata": {},
   "outputs": [],
   "source": [
    "pymol.start()"
   ]
  },
  {
   "cell_type": "code",
   "execution_count": 4,
   "metadata": {},
   "outputs": [],
   "source": [
    "pymol.do('fetch 3uex, struct, async=0;')\n",
    "pymol.do('remove solvent; ')\n",
    "\n",
    "# smoothing parameters\n",
    "pymol.do('alter all, b=10; alter all, q=1; set gaussian_resolution, 7.6;')\n",
    "pymol.do('map_new map, gaussian, 1, n. C+O+N+CA, 5; isosurface surf, map, 1.5;')\n",
    "\n",
    "# color struct according to atom count\n",
    "pymol.do('spectrum count, rainbow, struct')\n",
    "\n",
    "# color the map based on the b-factors of the underlying protein\n",
    "pymol.do('cmd.ramp_new(\"ramp\", \"struct\", [0,10,10], \"rainbow\") ')\n",
    " \n",
    "# set the surface color\n",
    "pymol.do('cmd.set(\"surface_color\", \"ramp\", \"surf\")')\n",
    " \n",
    "# hide the ramp and lines\n",
    "pymol.do('disable ramp; hide lines;')\n",
    "\n",
    "pymol.do('show sticks, org; show spheres, org;')\n",
    "\n",
    "pymol.do('color magenta, org')\n",
    "pymol.do('set_bond stick_radius, 0.13, org; set sphere_scale, 0.26, org;')\n",
    " \n",
    "pymol.do('set_bond stick_radius, 0.13, org; set_bond stick_color, white, org; set sphere_scale, 0.26, org;')\n",
    "\n",
    "pymol.do('set_view (\\\n",
    "    -0.877680123,    0.456324875,   -0.146428943,\\\n",
    "    0.149618521,   -0.029365506,   -0.988305628,\\\n",
    "    -0.455291569,   -0.889327347,   -0.042500813,\\\n",
    "    -0.000035629,    0.000030629,  -37.112102509,\\\n",
    "    -3.300258160,    6.586110592,   22.637466431,\\\n",
    "     8.231912613,   65.999290466,  -50.000000000 );')\n",
    "\n",
    "pymol.do('ray;')\n",
    "\n",
    "pymol.show()\n",
    "pymol.do('png png0.png;')"
   ]
  },
  {
   "cell_type": "code",
   "execution_count": null,
   "metadata": {},
   "outputs": [],
   "source": []
  }
 ],
 "metadata": {
  "kernelspec": {
   "display_name": "Python 3",
   "language": "python",
   "name": "python3"
  },
  "language_info": {
   "codemirror_mode": {
    "name": "ipython",
    "version": 3
   },
   "file_extension": ".py",
   "mimetype": "text/x-python",
   "name": "python",
   "nbconvert_exporter": "python",
   "pygments_lexer": "ipython3",
   "version": "3.8.5"
  }
 },
 "nbformat": 4,
 "nbformat_minor": 4
}
